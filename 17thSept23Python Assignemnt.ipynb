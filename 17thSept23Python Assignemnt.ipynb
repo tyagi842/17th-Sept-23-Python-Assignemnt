{
 "cells": [
  {
   "cell_type": "code",
   "execution_count": null,
   "id": "96e5c60a-1e81-4a2e-833c-fda41c78e33c",
   "metadata": {},
   "outputs": [],
   "source": [
    "# Q-1# Write a Python program to print numbers from 1 to 10 using a for loop."
   ]
  },
  {
   "cell_type": "code",
   "execution_count": 1,
   "id": "e691230e-93e5-48d2-97e1-be69cf6f9b26",
   "metadata": {},
   "outputs": [
    {
     "name": "stdout",
     "output_type": "stream",
     "text": [
      "1\n",
      "2\n",
      "3\n",
      "4\n",
      "5\n",
      "6\n",
      "7\n",
      "8\n",
      "9\n",
      "10\n"
     ]
    }
   ],
   "source": [
    "for i in range(1, 11):\n",
    "    print(i)"
   ]
  },
  {
   "cell_type": "code",
   "execution_count": null,
   "id": "c6b53225-a48f-4346-8024-58ced2ac4b20",
   "metadata": {},
   "outputs": [],
   "source": [
    "# Q-2 -# Write a Python program that uses lambda functions to sort a list of tuples based on the second element "
   ]
  },
  {
   "cell_type": "code",
   "execution_count": 4,
   "id": "3d93752f-22b0-4f1f-8b07-19fb149f708d",
   "metadata": {},
   "outputs": [
    {
     "name": "stdout",
     "output_type": "stream",
     "text": [
      "(4, 1)\n",
      "(2, 3)\n",
      "(1, 5)\n",
      "(3, 7)\n",
      "(5, 9)\n"
     ]
    }
   ],
   "source": [
    "# Define a list of tuples\n",
    "data = [(1, 5), (2, 3), (3, 7), (4, 1), (5, 9)]\n",
    "\n",
    "# Use the sorted() function with a lambda function as the key to sort based on the second element\n",
    "sorted_data = sorted(data, key=lambda x: x[1])\n",
    "\n",
    "# Print the sorted list\n",
    "for item in sorted_data:\n",
    "    print(item)"
   ]
  },
  {
   "cell_type": "code",
   "execution_count": null,
   "id": "97f2324f-6c43-4b02-ac10-c6abaa5584f4",
   "metadata": {},
   "outputs": [],
   "source": [
    "# Q-3 # Write a Python program that uses the `map()` function to round each element of a list of floating-point numbers to the nearest integer."
   ]
  },
  {
   "cell_type": "code",
   "execution_count": 13,
   "id": "a2c1eec6-1b0e-45b6-8d58-0f7c980590ef",
   "metadata": {},
   "outputs": [
    {
     "name": "stdout",
     "output_type": "stream",
     "text": [
      "[2, 3, 3, 5, 5]\n"
     ]
    }
   ],
   "source": [
    "# Define a list of floating-point numbers\n",
    "float_numbers = [1.5, 2.7, 3.2, 4.8, 5.1]\n",
    "\n",
    "# Use the map() function to round each element to the nearest integer\n",
    "rounded_integers = map(lambda x: round(x), float_numbers)\n",
    "\n",
    "# Convert the result to a list (optional, as map returns a map object in Python 3)\n",
    "rounded_integers_list = list(rounded_integers)\n",
    "\n",
    "# Print the rounded integers\n",
    "print(rounded_integers_list)"
   ]
  },
  {
   "cell_type": "code",
   "execution_count": null,
   "id": "5c385052-b925-4392-961b-212731fbf307",
   "metadata": {},
   "outputs": [],
   "source": [
    "# Q-4 Create a Python program that uses `reduce()` to find the maximum element in a list of numbers."
   ]
  },
  {
   "cell_type": "code",
   "execution_count": 17,
   "id": "1a9a8424-79b7-4209-b53d-2ef73ae2c3de",
   "metadata": {},
   "outputs": [
    {
     "name": "stdout",
     "output_type": "stream",
     "text": [
      "The maximum element in the list is: 89\n"
     ]
    }
   ],
   "source": [
    "from functools import reduce\n",
    "\n",
    "# Define a list of numbers\n",
    "numbers = [12, 45, 67, 23, 89, 34, 56]\n",
    "\n",
    "# Define a function to find the maximum of two numbers\n",
    "def find_max(x, y):\n",
    "    return x if x > y else y\n",
    "\n",
    "# Use the reduce() function to find the maximum element in the list\n",
    "maximum = reduce(find_max, numbers)\n",
    "\n",
    "# Print the maximum element\n",
    "print(\"The maximum element in the list is:\", maximum)"
   ]
  },
  {
   "cell_type": "code",
   "execution_count": null,
   "id": "7a817de2-7914-4f6a-ad37-63f264c0762f",
   "metadata": {},
   "outputs": [],
   "source": [
    "# Q-4 # Write a Python program that uses the `filter()` function to select elements greater than a specified threshold from a list of values."
   ]
  },
  {
   "cell_type": "code",
   "execution_count": 18,
   "id": "54a712e4-8920-4e6a-8609-f93b1ab7ebb8",
   "metadata": {},
   "outputs": [
    {
     "name": "stdout",
     "output_type": "stream",
     "text": [
      "Elements greater than 40 are: [45, 67, 89, 56]\n"
     ]
    }
   ],
   "source": [
    "# Define a list of values\n",
    "values = [12, 45, 67, 23, 89, 34, 56]\n",
    "\n",
    "# Define a threshold value\n",
    "threshold = 40\n",
    "\n",
    "# Use the filter() function to select elements greater than the threshold\n",
    "filtered_values = filter(lambda x: x > threshold, values)\n",
    "\n",
    "# Convert the result to a list (optional, as filter returns a filter object in Python 3)\n",
    "filtered_values_list = list(filtered_values)\n",
    "\n",
    "# Print the filtered elements\n",
    "print(\"Elements greater than\", threshold, \"are:\", filtered_values_list)"
   ]
  },
  {
   "cell_type": "code",
   "execution_count": 30,
   "id": "eec962f2-1b94-4852-880b-1dd4428a681f",
   "metadata": {},
   "outputs": [],
   "source": [
    "# Q- 5# Create a Python program that uses the `filter()` function to select names that start with a specific letter from a list of strings"
   ]
  },
  {
   "cell_type": "code",
   "execution_count": 23,
   "id": "62174a55-c2e1-4e8c-9295-5854cf33265b",
   "metadata": {},
   "outputs": [
    {
     "name": "stdout",
     "output_type": "stream",
     "text": [
      "Names starting with the letter K are: ['Kanika']\n"
     ]
    }
   ],
   "source": [
    "# Define a list of names\n",
    "names = [\"Harsh\", \"pw skills\", \"Aman\", \"Rahul\", \"Tyagi\", \"Kanika\"]\n",
    "\n",
    "# Define the specific letter to filter by\n",
    "starting_letter = \"K\"\n",
    "\n",
    "# Use the filter() function to select names that start with the specific letter\n",
    "filtered_names = filter(lambda name: name.startswith(starting_letter), names)\n",
    "\n",
    "# Convert the result to a list (optional, as filter returns a filter object in Python 3)\n",
    "filtered_names_list = list(filtered_names)\n",
    "\n",
    "# Print the filtered names\n",
    "print(\"Names starting with the letter\", starting_letter, \"are:\", filtered_names_list)"
   ]
  },
  {
   "cell_type": "code",
   "execution_count": null,
   "id": "41134e79-7674-4fbc-becb-7ba6db4b9894",
   "metadata": {},
   "outputs": [],
   "source": [
    "# Q-6 # Create a Python program that uses `filter()` to select words longer than a certain length from a list of strings."
   ]
  },
  {
   "cell_type": "code",
   "execution_count": 24,
   "id": "f4e50642-4517-41a2-a8ef-fbeda5a7e884",
   "metadata": {},
   "outputs": [
    {
     "name": "stdout",
     "output_type": "stream",
     "text": [
      "Words longer than 5 characters are: ['banana', 'cherry', 'elderberry']\n"
     ]
    }
   ],
   "source": [
    "# Define a list of strings (words)\n",
    "words = [\"apple\", \"banana\", \"cherry\", \"date\", \"elderberry\", \"fig\"]\n",
    "\n",
    "# Define the minimum length for words to be selected\n",
    "min_length = 5\n",
    "\n",
    "# Use the filter() function to select words longer than the specified length\n",
    "filtered_words = filter(lambda word: len(word) > min_length, words)\n",
    "\n",
    "# Convert the result to a list (optional, as filter returns a filter object in Python 3)\n",
    "filtered_words_list = list(filtered_words)\n",
    "\n",
    "# Print the filtered words\n",
    "print(\"Words longer than\", min_length, \"characters are:\", filtered_words_list)"
   ]
  },
  {
   "cell_type": "code",
   "execution_count": null,
   "id": "984eb7e8-3da0-4a19-b672-05df11728656",
   "metadata": {},
   "outputs": [],
   "source": [
    "# Q-7# Write a Python program to determine if a user is eligible to vote based on their age using if-else."
   ]
  },
  {
   "cell_type": "code",
   "execution_count": 26,
   "id": "0f2264b4-ae3a-4898-a150-391e1245ac86",
   "metadata": {},
   "outputs": [
    {
     "name": "stdin",
     "output_type": "stream",
     "text": [
      "Enter your age:  14\n"
     ]
    },
    {
     "name": "stdout",
     "output_type": "stream",
     "text": [
      "You are not eligible to vote.\n"
     ]
    }
   ],
   "source": [
    "# Prompt the user to enter their age\n",
    "age = int(input(\"Enter your age: \"))\n",
    "\n",
    "# Check if the user is eligible to vote\n",
    "if age >= 18:\n",
    "    print(\"You are eligible to vote.\")\n",
    "else:\n",
    "    print(\"You are not eligible to vote.\")"
   ]
  },
  {
   "cell_type": "code",
   "execution_count": null,
   "id": "0bd0aa5f-1459-47bd-8bd5-e4c7366c5dfb",
   "metadata": {},
   "outputs": [],
   "source": [
    "# Q-8# Write a Python program to find the LCM (Least Common Multiple) of two numbers using a for loop."
   ]
  },
  {
   "cell_type": "code",
   "execution_count": 27,
   "id": "7546598e-b6f8-42f8-b5fe-e40c3c9391f6",
   "metadata": {},
   "outputs": [
    {
     "name": "stdin",
     "output_type": "stream",
     "text": [
      "Enter the first number:  25\n",
      "Enter the second number:  20\n"
     ]
    },
    {
     "name": "stdout",
     "output_type": "stream",
     "text": [
      "The LCM of 25 and 20 is 100\n"
     ]
    }
   ],
   "source": [
    "import math\n",
    "\n",
    "# Function to calculate LCM using GCD\n",
    "def find_lcm(a, b):\n",
    "    return (a * b) // math.gcd(a, b)\n",
    "\n",
    "# Input two numbers from the user\n",
    "num1 = int(input(\"Enter the first number: \"))\n",
    "num2 = int(input(\"Enter the second number: \"))\n",
    "\n",
    "# Calculate the LCM\n",
    "lcm = find_lcm(num1, num2)\n",
    "\n",
    "# Print the LCM\n",
    "print(f\"The LCM of {num1} and {num2} is {lcm}\")"
   ]
  },
  {
   "cell_type": "code",
   "execution_count": null,
   "id": "3b749130-a523-41bd-a4b8-b93d6cd442be",
   "metadata": {},
   "outputs": [],
   "source": [
    "# Q-9# Write a Python program that uses the `filter()` function to select even numbers from a list of integers."
   ]
  },
  {
   "cell_type": "code",
   "execution_count": 28,
   "id": "df30e8ca-e116-406f-9f7e-ce1e256bc161",
   "metadata": {},
   "outputs": [
    {
     "name": "stdout",
     "output_type": "stream",
     "text": [
      "Even numbers are: [2, 4, 6, 8, 10]\n"
     ]
    }
   ],
   "source": [
    "# Define a list of integers\n",
    "numbers = [1, 2, 3, 4, 5, 6, 7, 8, 9, 10]\n",
    "\n",
    "# Use the filter() function to select even numbers\n",
    "even_numbers = filter(lambda x: x % 2 == 0, numbers)\n",
    "\n",
    "# Convert the result to a list (optional, as filter returns a filter object in Python 3)\n",
    "even_numbers_list = list(even_numbers)\n",
    "\n",
    "# Print the even numbers\n",
    "print(\"Even numbers are:\", even_numbers_list)"
   ]
  },
  {
   "cell_type": "code",
   "execution_count": null,
   "id": "6ecf23db-7a5d-4aa5-b38f-fd26e47770dd",
   "metadata": {},
   "outputs": [],
   "source": [
    "# Q-10# Write a Python program that uses the `filter()` function to select prime numbers from a list of integers."
   ]
  },
  {
   "cell_type": "code",
   "execution_count": 29,
   "id": "91d78358-eb3d-4dad-8dee-a06f13fe7810",
   "metadata": {},
   "outputs": [
    {
     "name": "stdout",
     "output_type": "stream",
     "text": [
      "Prime numbers are: [2, 3, 5, 7]\n"
     ]
    }
   ],
   "source": [
    "# Define a function to check if a number is prime\n",
    "def is_prime(n):\n",
    "    if n <= 1:\n",
    "        return False\n",
    "    if n <= 3:\n",
    "        return True\n",
    "    if n % 2 == 0 or n % 3 == 0:\n",
    "        return False\n",
    "    i = 5\n",
    "    while i * i <= n:\n",
    "        if n % i == 0 or n % (i + 2) == 0:\n",
    "            return False\n",
    "        i += 6\n",
    "    return True\n",
    "\n",
    "# Define a list of integers\n",
    "numbers = [1, 2, 3, 4, 5, 6, 7, 8, 9, 10]\n",
    "\n",
    "# Use the filter() function to select prime numbers\n",
    "prime_numbers = filter(is_prime, numbers)\n",
    "\n",
    "# Convert the result to a list (optional, as filter returns a filter object in Python 3)\n",
    "prime_numbers_list = list(prime_numbers)\n",
    "\n",
    "# Print the prime numbers\n",
    "print(\"Prime numbers are:\", prime_numbers_list)"
   ]
  },
  {
   "cell_type": "code",
   "execution_count": null,
   "id": "0bfc67ba-baa8-4122-b387-a9529eff00d9",
   "metadata": {},
   "outputs": [],
   "source": []
  }
 ],
 "metadata": {
  "kernelspec": {
   "display_name": "Python 3 (ipykernel)",
   "language": "python",
   "name": "python3"
  },
  "language_info": {
   "codemirror_mode": {
    "name": "ipython",
    "version": 3
   },
   "file_extension": ".py",
   "mimetype": "text/x-python",
   "name": "python",
   "nbconvert_exporter": "python",
   "pygments_lexer": "ipython3",
   "version": "3.10.8"
  }
 },
 "nbformat": 4,
 "nbformat_minor": 5
}
